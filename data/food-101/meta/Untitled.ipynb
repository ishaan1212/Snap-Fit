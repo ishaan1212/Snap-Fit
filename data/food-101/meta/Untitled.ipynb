{
 "cells": [
  {
   "cell_type": "code",
   "execution_count": 1,
   "id": "3032c14d",
   "metadata": {},
   "outputs": [],
   "source": [
    "import json\n",
    "import csv"
   ]
  },
  {
   "cell_type": "code",
   "execution_count": 2,
   "id": "4ef522e9",
   "metadata": {},
   "outputs": [],
   "source": [
    "data=[]"
   ]
  },
  {
   "cell_type": "code",
   "execution_count": 3,
   "id": "c66b6907",
   "metadata": {},
   "outputs": [],
   "source": [
    "#ID\n",
    "with open('test.txt', 'r') as in_file:\n",
    "    for line in in_file:\n",
    "        className = line.split('/')[0]\n",
    "        data.append([line.rstrip(),className])"
   ]
  },
  {
   "cell_type": "code",
   "execution_count": 4,
   "id": "ac6a123e",
   "metadata": {},
   "outputs": [],
   "source": [
    "#Create CSV for id and class\n",
    "with open('test.csv', 'w', newline='') as out_file:\n",
    "    writer = csv.writer(out_file)\n",
    "    writer.writerow([\"id\",\"class\"])\n",
    "    writer.writerows(data)"
   ]
  },
  {
   "cell_type": "code",
   "execution_count": 5,
   "id": "ca945f2e",
   "metadata": {},
   "outputs": [],
   "source": [
    "#ID\n",
    "with open('train.txt', 'r') as in_file:\n",
    "    for line in in_file:\n",
    "        className = line.split('/')[0]\n",
    "        data.append([line.rstrip(),className])"
   ]
  },
  {
   "cell_type": "code",
   "execution_count": 6,
   "id": "784cc483",
   "metadata": {},
   "outputs": [],
   "source": [
    "#Create CSV for id and class\n",
    "with open('train.csv', 'w', newline='') as out_file:\n",
    "    writer = csv.writer(out_file)\n",
    "    writer.writerow([\"id\",\"class\"])\n",
    "    writer.writerows(data)"
   ]
  },
  {
   "cell_type": "code",
   "execution_count": null,
   "id": "44e9fa4e",
   "metadata": {},
   "outputs": [],
   "source": []
  }
 ],
 "metadata": {
  "kernelspec": {
   "display_name": "Python 3 (ipykernel)",
   "language": "python",
   "name": "python3"
  },
  "language_info": {
   "codemirror_mode": {
    "name": "ipython",
    "version": 3
   },
   "file_extension": ".py",
   "mimetype": "text/x-python",
   "name": "python",
   "nbconvert_exporter": "python",
   "pygments_lexer": "ipython3",
   "version": "3.12.0"
  }
 },
 "nbformat": 4,
 "nbformat_minor": 5
}
